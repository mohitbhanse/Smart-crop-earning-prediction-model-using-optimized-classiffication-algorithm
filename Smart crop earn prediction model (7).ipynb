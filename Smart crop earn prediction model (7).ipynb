{
 "cells": [
  {
   "cell_type": "markdown",
   "id": "9d0d7933",
   "metadata": {},
   "source": [
    "# Smart Crop earn prediction model \n",
    "\n",
    "# problem statement: How can crop yield prediction algorithms be improved to generalize across diverse geographical regions and varying environmental conditions\n",
    "\n",
    "# Steps done in the project:\n",
    "\n",
    "1.Data Loading and Exploration: Load the CSV files into Pandas DataFrames and explore the data.\n",
    "\n",
    "2.Data Preprocessing: Merge the data, handle missing values, and encode categorical features.\n",
    "\n",
    "3.Feature Selection and Data Splitting: Select features, split data into training and testing sets.\n",
    "\n",
    "4.Model Training: Train XGBoost and LightGBM models and compare their accuracies.\n",
    "\n",
    "5.Visualization: Plot the four-month analysis for the predicted crop.\n",
    "\n",
    "6.Flask App: Set up a Flask app with routes for prediction and analysis.\n",
    "\n",
    "7.HTML Template: Create an HTML template to display the prediction results and analysis charts using Chart.js.\n"
   ]
  },
  {
   "cell_type": "code",
   "execution_count": 1,
   "id": "166805ec",
   "metadata": {
    "collapsed": true
   },
   "outputs": [
    {
     "name": "stdout",
     "output_type": "stream",
     "text": [
      "Requirement already satisfied: pandas in c:\\users\\91992\\anaconda3\\lib\\site-packages (2.2.3)Note: you may need to restart the kernel to use updated packages.\n",
      "\n",
      "Requirement already satisfied: numpy>=1.22.4 in c:\\users\\91992\\anaconda3\\lib\\site-packages (from pandas) (1.26.2)\n",
      "Requirement already satisfied: python-dateutil>=2.8.2 in c:\\users\\91992\\anaconda3\\lib\\site-packages (from pandas) (2.8.2)\n",
      "Requirement already satisfied: tzdata>=2022.7 in c:\\users\\91992\\anaconda3\\lib\\site-packages (from pandas) (2024.1)\n",
      "Requirement already satisfied: pytz>=2020.1 in c:\\users\\91992\\anaconda3\\lib\\site-packages (from pandas) (2022.7)\n",
      "Requirement already satisfied: six>=1.5 in c:\\users\\91992\\anaconda3\\lib\\site-packages (from python-dateutil>=2.8.2->pandas) (1.16.0)\n"
     ]
    },
    {
     "name": "stderr",
     "output_type": "stream",
     "text": [
      "WARNING: Ignoring invalid distribution -lotly (c:\\users\\91992\\anaconda3\\lib\\site-packages)\n",
      "WARNING: Ignoring invalid distribution -lotly (c:\\users\\91992\\anaconda3\\lib\\site-packages)\n",
      "WARNING: Ignoring invalid distribution -lotly (c:\\users\\91992\\anaconda3\\lib\\site-packages)\n",
      "WARNING: Ignoring invalid distribution -lotly (c:\\users\\91992\\anaconda3\\lib\\site-packages)\n",
      "WARNING: Ignoring invalid distribution -lotly (c:\\users\\91992\\anaconda3\\lib\\site-packages)\n",
      "WARNING: Ignoring invalid distribution -lotly (c:\\users\\91992\\anaconda3\\lib\\site-packages)\n"
     ]
    }
   ],
   "source": [
    "pip install --upgrade pandas"
   ]
  },
  {
   "cell_type": "code",
   "execution_count": 2,
   "id": "380e1147",
   "metadata": {
    "collapsed": true
   },
   "outputs": [
    {
     "name": "stdout",
     "output_type": "stream",
     "text": [
      "Requirement already satisfied: lightgbm in c:\\users\\91992\\anaconda3\\lib\\site-packages (4.5.0)\n",
      "Requirement already satisfied: scipy in c:\\users\\91992\\anaconda3\\lib\\site-packages (from lightgbm) (1.10.0)\n",
      "Requirement already satisfied: numpy>=1.17.0 in c:\\users\\91992\\anaconda3\\lib\\site-packages (from lightgbm) (1.26.2)\n",
      "Note: you may need to restart the kernel to use updated packages.\n"
     ]
    },
    {
     "name": "stderr",
     "output_type": "stream",
     "text": [
      "WARNING: Ignoring invalid distribution -lotly (c:\\users\\91992\\anaconda3\\lib\\site-packages)\n",
      "WARNING: Ignoring invalid distribution -lotly (c:\\users\\91992\\anaconda3\\lib\\site-packages)\n",
      "WARNING: Ignoring invalid distribution -lotly (c:\\users\\91992\\anaconda3\\lib\\site-packages)\n",
      "WARNING: Ignoring invalid distribution -lotly (c:\\users\\91992\\anaconda3\\lib\\site-packages)\n",
      "WARNING: Ignoring invalid distribution -lotly (c:\\users\\91992\\anaconda3\\lib\\site-packages)\n",
      "WARNING: Ignoring invalid distribution -lotly (c:\\users\\91992\\anaconda3\\lib\\site-packages)\n"
     ]
    }
   ],
   "source": [
    "pip install lightgbm"
   ]
  },
  {
   "cell_type": "code",
   "execution_count": 3,
   "id": "7604e8a0",
   "metadata": {
    "collapsed": true
   },
   "outputs": [
    {
     "name": "stdout",
     "output_type": "stream",
     "text": [
      "Requirement already satisfied: xgboost in c:\\users\\91992\\anaconda3\\lib\\site-packages (2.1.0)\n",
      "Requirement already satisfied: numpy in c:\\users\\91992\\anaconda3\\lib\\site-packages (from xgboost) (1.26.2)\n",
      "Requirement already satisfied: scipy in c:\\users\\91992\\anaconda3\\lib\\site-packages (from xgboost) (1.10.0)\n",
      "Note: you may need to restart the kernel to use updated packages.\n"
     ]
    },
    {
     "name": "stderr",
     "output_type": "stream",
     "text": [
      "WARNING: Ignoring invalid distribution -lotly (c:\\users\\91992\\anaconda3\\lib\\site-packages)\n",
      "WARNING: Ignoring invalid distribution -lotly (c:\\users\\91992\\anaconda3\\lib\\site-packages)\n",
      "WARNING: Ignoring invalid distribution -lotly (c:\\users\\91992\\anaconda3\\lib\\site-packages)\n",
      "WARNING: Ignoring invalid distribution -lotly (c:\\users\\91992\\anaconda3\\lib\\site-packages)\n",
      "WARNING: Ignoring invalid distribution -lotly (c:\\users\\91992\\anaconda3\\lib\\site-packages)\n",
      "WARNING: Ignoring invalid distribution -lotly (c:\\users\\91992\\anaconda3\\lib\\site-packages)\n"
     ]
    }
   ],
   "source": [
    "pip install xgboost"
   ]
  },
  {
   "cell_type": "code",
   "execution_count": 4,
   "id": "c236ecfd",
   "metadata": {
    "collapsed": true
   },
   "outputs": [
    {
     "name": "stdout",
     "output_type": "stream",
     "text": [
      "Requirement already satisfied: dask in c:\\users\\91992\\anaconda3\\lib\\site-packages (2024.10.0)\n",
      "Requirement already satisfied: lightgbm in c:\\users\\91992\\anaconda3\\lib\\site-packages (4.5.0)\n",
      "Requirement already satisfied: pandas in c:\\users\\91992\\anaconda3\\lib\\site-packages (2.2.3)\n",
      "Requirement already satisfied: toolz>=0.10.0 in c:\\users\\91992\\anaconda3\\lib\\site-packages (from dask) (0.12.0)\n",
      "Requirement already satisfied: fsspec>=2021.09.0 in c:\\users\\91992\\anaconda3\\lib\\site-packages (from dask) (2022.11.0)\n",
      "Requirement already satisfied: cloudpickle>=3.0.0 in c:\\users\\91992\\anaconda3\\lib\\site-packages (from dask) (3.0.0)\n",
      "Requirement already satisfied: pyyaml>=5.3.1 in c:\\users\\91992\\anaconda3\\lib\\site-packages (from dask) (6.0)\n",
      "Requirement already satisfied: importlib-metadata>=4.13.0 in c:\\users\\91992\\anaconda3\\lib\\site-packages (from dask) (8.0.0)\n",
      "Requirement already satisfied: packaging>=20.0 in c:\\users\\91992\\anaconda3\\lib\\site-packages (from dask) (22.0)\n",
      "Requirement already satisfied: click>=8.1 in c:\\users\\91992\\anaconda3\\lib\\site-packages (from dask) (8.1.7)\n",
      "Requirement already satisfied: partd>=1.4.0 in c:\\users\\91992\\anaconda3\\lib\\site-packages (from dask) (1.4.2)\n",
      "Requirement already satisfied: numpy>=1.17.0 in c:\\users\\91992\\anaconda3\\lib\\site-packages (from lightgbm) (1.26.2)\n",
      "Requirement already satisfied: scipy in c:\\users\\91992\\anaconda3\\lib\\site-packages (from lightgbm) (1.10.0)\n",
      "Requirement already satisfied: tzdata>=2022.7 in c:\\users\\91992\\anaconda3\\lib\\site-packages (from pandas) (2024.1)\n",
      "Requirement already satisfied: pytz>=2020.1 in c:\\users\\91992\\anaconda3\\lib\\site-packages (from pandas) (2022.7)\n",
      "Requirement already satisfied: python-dateutil>=2.8.2 in c:\\users\\91992\\anaconda3\\lib\\site-packages (from pandas) (2.8.2)\n",
      "Requirement already satisfied: colorama in c:\\users\\91992\\anaconda3\\lib\\site-packages (from click>=8.1->dask) (0.4.6)\n",
      "Requirement already satisfied: zipp>=0.5 in c:\\users\\91992\\anaconda3\\lib\\site-packages (from importlib-metadata>=4.13.0->dask) (3.11.0)\n",
      "Requirement already satisfied: locket in c:\\users\\91992\\anaconda3\\lib\\site-packages (from partd>=1.4.0->dask) (1.0.0)\n",
      "Requirement already satisfied: six>=1.5 in c:\\users\\91992\\anaconda3\\lib\\site-packages (from python-dateutil>=2.8.2->pandas) (1.16.0)\n"
     ]
    },
    {
     "name": "stderr",
     "output_type": "stream",
     "text": [
      "WARNING: Ignoring invalid distribution -lotly (c:\\users\\91992\\anaconda3\\lib\\site-packages)\n",
      "WARNING: Ignoring invalid distribution -lotly (c:\\users\\91992\\anaconda3\\lib\\site-packages)\n",
      "WARNING: Ignoring invalid distribution -lotly (c:\\users\\91992\\anaconda3\\lib\\site-packages)\n",
      "WARNING: Ignoring invalid distribution -lotly (c:\\users\\91992\\anaconda3\\lib\\site-packages)\n",
      "WARNING: Ignoring invalid distribution -lotly (c:\\users\\91992\\anaconda3\\lib\\site-packages)\n",
      "WARNING: Ignoring invalid distribution -lotly (c:\\users\\91992\\anaconda3\\lib\\site-packages)\n"
     ]
    }
   ],
   "source": [
    "!pip install --upgrade dask lightgbm pandas"
   ]
  },
  {
   "cell_type": "code",
   "execution_count": 5,
   "id": "6347b2b3",
   "metadata": {
    "collapsed": true
   },
   "outputs": [
    {
     "name": "stdout",
     "output_type": "stream",
     "text": [
      "Requirement already satisfied: Flask in c:\\users\\91992\\anaconda3\\lib\\site-packages (2.2.2)\n",
      "Requirement already satisfied: Jinja2>=3.0 in c:\\users\\91992\\anaconda3\\lib\\site-packages (from Flask) (3.1.2)\n",
      "Requirement already satisfied: itsdangerous>=2.0 in c:\\users\\91992\\anaconda3\\lib\\site-packages (from Flask) (2.0.1)\n",
      "Requirement already satisfied: Werkzeug>=2.2.2 in c:\\users\\91992\\anaconda3\\lib\\site-packages (from Flask) (2.2.2)\n",
      "Requirement already satisfied: click>=8.0 in c:\\users\\91992\\anaconda3\\lib\\site-packages (from Flask) (8.1.7)\n",
      "Requirement already satisfied: colorama in c:\\users\\91992\\anaconda3\\lib\\site-packages (from click>=8.0->Flask) (0.4.6)\n",
      "Requirement already satisfied: MarkupSafe>=2.0 in c:\\users\\91992\\anaconda3\\lib\\site-packages (from Jinja2>=3.0->Flask) (2.1.1)\n",
      "Note: you may need to restart the kernel to use updated packages.\n"
     ]
    },
    {
     "name": "stderr",
     "output_type": "stream",
     "text": [
      "WARNING: Ignoring invalid distribution -lotly (c:\\users\\91992\\anaconda3\\lib\\site-packages)\n",
      "WARNING: Ignoring invalid distribution -lotly (c:\\users\\91992\\anaconda3\\lib\\site-packages)\n",
      "WARNING: Ignoring invalid distribution -lotly (c:\\users\\91992\\anaconda3\\lib\\site-packages)\n",
      "WARNING: Ignoring invalid distribution -lotly (c:\\users\\91992\\anaconda3\\lib\\site-packages)\n",
      "WARNING: Ignoring invalid distribution -lotly (c:\\users\\91992\\anaconda3\\lib\\site-packages)\n",
      "WARNING: Ignoring invalid distribution -lotly (c:\\users\\91992\\anaconda3\\lib\\site-packages)\n"
     ]
    }
   ],
   "source": [
    "pip install Flask\n"
   ]
  },
  {
   "cell_type": "code",
   "execution_count": 6,
   "id": "ab8a640a",
   "metadata": {
    "collapsed": true
   },
   "outputs": [
    {
     "name": "stdout",
     "output_type": "stream",
     "text": [
      "Requirement already satisfied: flask in c:\\users\\91992\\anaconda3\\lib\\site-packages (2.2.2)\n",
      "Requirement already satisfied: flask-ngrok in c:\\users\\91992\\anaconda3\\lib\\site-packages (0.0.25)\n",
      "Requirement already satisfied: Werkzeug>=2.2.2 in c:\\users\\91992\\anaconda3\\lib\\site-packages (from flask) (2.2.2)\n",
      "Requirement already satisfied: Jinja2>=3.0 in c:\\users\\91992\\anaconda3\\lib\\site-packages (from flask) (3.1.2)\n",
      "Requirement already satisfied: click>=8.0 in c:\\users\\91992\\anaconda3\\lib\\site-packages (from flask) (8.1.7)\n",
      "Requirement already satisfied: itsdangerous>=2.0 in c:\\users\\91992\\anaconda3\\lib\\site-packages (from flask) (2.0.1)\n",
      "Requirement already satisfied: requests in c:\\users\\91992\\anaconda3\\lib\\site-packages (from flask-ngrok) (2.32.3)\n",
      "Requirement already satisfied: colorama in c:\\users\\91992\\anaconda3\\lib\\site-packages (from click>=8.0->flask) (0.4.6)\n",
      "Requirement already satisfied: MarkupSafe>=2.0 in c:\\users\\91992\\anaconda3\\lib\\site-packages (from Jinja2>=3.0->flask) (2.1.1)\n",
      "Requirement already satisfied: charset-normalizer<4,>=2 in c:\\users\\91992\\anaconda3\\lib\\site-packages (from requests->flask-ngrok) (2.0.4)\n",
      "Requirement already satisfied: urllib3<3,>=1.21.1 in c:\\users\\91992\\anaconda3\\lib\\site-packages (from requests->flask-ngrok) (1.26.14)\n",
      "Requirement already satisfied: certifi>=2017.4.17 in c:\\users\\91992\\anaconda3\\lib\\site-packages (from requests->flask-ngrok) (2022.12.7)\n",
      "Requirement already satisfied: idna<4,>=2.5 in c:\\users\\91992\\anaconda3\\lib\\site-packages (from requests->flask-ngrok) (3.4)\n"
     ]
    },
    {
     "name": "stderr",
     "output_type": "stream",
     "text": [
      "WARNING: Ignoring invalid distribution -lotly (c:\\users\\91992\\anaconda3\\lib\\site-packages)\n",
      "WARNING: Ignoring invalid distribution -lotly (c:\\users\\91992\\anaconda3\\lib\\site-packages)\n",
      "WARNING: Ignoring invalid distribution -lotly (c:\\users\\91992\\anaconda3\\lib\\site-packages)\n",
      "WARNING: Ignoring invalid distribution -lotly (c:\\users\\91992\\anaconda3\\lib\\site-packages)\n",
      "WARNING: Ignoring invalid distribution -lotly (c:\\users\\91992\\anaconda3\\lib\\site-packages)\n",
      "WARNING: Ignoring invalid distribution -lotly (c:\\users\\91992\\anaconda3\\lib\\site-packages)\n"
     ]
    }
   ],
   "source": [
    "!pip install flask flask-ngrok\n"
   ]
  },
  {
   "cell_type": "code",
   "execution_count": 1,
   "id": "74256d21",
   "metadata": {},
   "outputs": [
    {
     "name": "stderr",
     "output_type": "stream",
     "text": [
      "C:\\Users\\91992\\anaconda3\\lib\\site-packages\\pandas\\core\\arrays\\masked.py:60: UserWarning: Pandas requires version '1.3.6' or newer of 'bottleneck' (version '1.3.5' currently installed).\n",
      "  from pandas.core import (\n",
      "C:\\Users\\91992\\anaconda3\\lib\\site-packages\\dask\\dataframe\\__init__.py:42: FutureWarning: \n",
      "Dask dataframe query planning is disabled because dask-expr is not installed.\n",
      "\n",
      "You can install it with `pip install dask[dataframe]` or `conda install dask`.\n",
      "This will raise in a future version.\n",
      "\n",
      "  warnings.warn(msg, FutureWarning)\n"
     ]
    },
    {
     "name": "stdout",
     "output_type": "stream",
     "text": [
      "Dask version: 2024.10.0\n",
      "LightGBM version: 4.5.0\n",
      "Pandas version: 2.2.3\n"
     ]
    }
   ],
   "source": [
    "import dask\n",
    "import lightgbm\n",
    "import pandas as pd\n",
    "\n",
    "print(f'Dask version: {dask.__version__}')\n",
    "print(f'LightGBM version: {lightgbm.__version__}')\n",
    "print(f'Pandas version: {pd.__version__}')\n"
   ]
  },
  {
   "cell_type": "markdown",
   "id": "5f4ba48c",
   "metadata": {},
   "source": [
    "# Step 1: Data Loading"
   ]
  },
  {
   "cell_type": "code",
   "execution_count": 2,
   "id": "973b5f26",
   "metadata": {},
   "outputs": [],
   "source": [
    "data=pd.read_csv('yield_df.csv')"
   ]
  },
  {
   "cell_type": "code",
   "execution_count": 3,
   "id": "8491bff3",
   "metadata": {},
   "outputs": [],
   "source": [
    "crop_data=data.copy()"
   ]
  },
  {
   "cell_type": "code",
   "execution_count": 4,
   "id": "08b71cc9",
   "metadata": {},
   "outputs": [
    {
     "name": "stdout",
     "output_type": "stream",
     "text": [
      "<class 'pandas.core.frame.DataFrame'>\n",
      "RangeIndex: 28242 entries, 0 to 28241\n",
      "Data columns (total 8 columns):\n",
      " #   Column                         Non-Null Count  Dtype  \n",
      "---  ------                         --------------  -----  \n",
      " 0   Unnamed: 0                     28242 non-null  int64  \n",
      " 1   Area                           28242 non-null  object \n",
      " 2   crop                           28242 non-null  object \n",
      " 3   Year                           28242 non-null  int64  \n",
      " 4   hg/ha_yield                    28242 non-null  int64  \n",
      " 5   average_rain_fall_mm_per_year  28242 non-null  int64  \n",
      " 6   pesticides_tonnes              28242 non-null  float64\n",
      " 7   avg_temp                       28242 non-null  float64\n",
      "dtypes: float64(2), int64(4), object(2)\n",
      "memory usage: 1.7+ MB\n"
     ]
    }
   ],
   "source": [
    "crop_data.info()"
   ]
  },
  {
   "cell_type": "code",
   "execution_count": 5,
   "id": "37b2f4a1",
   "metadata": {},
   "outputs": [
    {
     "data": {
      "text/html": [
       "<div>\n",
       "<style scoped>\n",
       "    .dataframe tbody tr th:only-of-type {\n",
       "        vertical-align: middle;\n",
       "    }\n",
       "\n",
       "    .dataframe tbody tr th {\n",
       "        vertical-align: top;\n",
       "    }\n",
       "\n",
       "    .dataframe thead th {\n",
       "        text-align: right;\n",
       "    }\n",
       "</style>\n",
       "<table border=\"1\" class=\"dataframe\">\n",
       "  <thead>\n",
       "    <tr style=\"text-align: right;\">\n",
       "      <th></th>\n",
       "      <th>Unnamed: 0</th>\n",
       "      <th>Year</th>\n",
       "      <th>hg/ha_yield</th>\n",
       "      <th>average_rain_fall_mm_per_year</th>\n",
       "      <th>pesticides_tonnes</th>\n",
       "      <th>avg_temp</th>\n",
       "    </tr>\n",
       "  </thead>\n",
       "  <tbody>\n",
       "    <tr>\n",
       "      <th>count</th>\n",
       "      <td>28242.000000</td>\n",
       "      <td>28242.000000</td>\n",
       "      <td>28242.000000</td>\n",
       "      <td>28242.00000</td>\n",
       "      <td>28242.000000</td>\n",
       "      <td>28242.000000</td>\n",
       "    </tr>\n",
       "    <tr>\n",
       "      <th>mean</th>\n",
       "      <td>14120.500000</td>\n",
       "      <td>2001.544296</td>\n",
       "      <td>77053.332094</td>\n",
       "      <td>1149.05598</td>\n",
       "      <td>37076.909344</td>\n",
       "      <td>20.542627</td>\n",
       "    </tr>\n",
       "    <tr>\n",
       "      <th>std</th>\n",
       "      <td>8152.907488</td>\n",
       "      <td>7.051905</td>\n",
       "      <td>84956.612897</td>\n",
       "      <td>709.81215</td>\n",
       "      <td>59958.784665</td>\n",
       "      <td>6.312051</td>\n",
       "    </tr>\n",
       "    <tr>\n",
       "      <th>min</th>\n",
       "      <td>0.000000</td>\n",
       "      <td>1990.000000</td>\n",
       "      <td>50.000000</td>\n",
       "      <td>51.00000</td>\n",
       "      <td>0.040000</td>\n",
       "      <td>1.300000</td>\n",
       "    </tr>\n",
       "    <tr>\n",
       "      <th>25%</th>\n",
       "      <td>7060.250000</td>\n",
       "      <td>1995.000000</td>\n",
       "      <td>19919.250000</td>\n",
       "      <td>593.00000</td>\n",
       "      <td>1702.000000</td>\n",
       "      <td>16.702500</td>\n",
       "    </tr>\n",
       "    <tr>\n",
       "      <th>50%</th>\n",
       "      <td>14120.500000</td>\n",
       "      <td>2001.000000</td>\n",
       "      <td>38295.000000</td>\n",
       "      <td>1083.00000</td>\n",
       "      <td>17529.440000</td>\n",
       "      <td>21.510000</td>\n",
       "    </tr>\n",
       "    <tr>\n",
       "      <th>75%</th>\n",
       "      <td>21180.750000</td>\n",
       "      <td>2008.000000</td>\n",
       "      <td>104676.750000</td>\n",
       "      <td>1668.00000</td>\n",
       "      <td>48687.880000</td>\n",
       "      <td>26.000000</td>\n",
       "    </tr>\n",
       "    <tr>\n",
       "      <th>max</th>\n",
       "      <td>28241.000000</td>\n",
       "      <td>2013.000000</td>\n",
       "      <td>501412.000000</td>\n",
       "      <td>3240.00000</td>\n",
       "      <td>367778.000000</td>\n",
       "      <td>30.650000</td>\n",
       "    </tr>\n",
       "  </tbody>\n",
       "</table>\n",
       "</div>"
      ],
      "text/plain": [
       "         Unnamed: 0          Year    hg/ha_yield  \\\n",
       "count  28242.000000  28242.000000   28242.000000   \n",
       "mean   14120.500000   2001.544296   77053.332094   \n",
       "std     8152.907488      7.051905   84956.612897   \n",
       "min        0.000000   1990.000000      50.000000   \n",
       "25%     7060.250000   1995.000000   19919.250000   \n",
       "50%    14120.500000   2001.000000   38295.000000   \n",
       "75%    21180.750000   2008.000000  104676.750000   \n",
       "max    28241.000000   2013.000000  501412.000000   \n",
       "\n",
       "       average_rain_fall_mm_per_year  pesticides_tonnes      avg_temp  \n",
       "count                    28242.00000       28242.000000  28242.000000  \n",
       "mean                      1149.05598       37076.909344     20.542627  \n",
       "std                        709.81215       59958.784665      6.312051  \n",
       "min                         51.00000           0.040000      1.300000  \n",
       "25%                        593.00000        1702.000000     16.702500  \n",
       "50%                       1083.00000       17529.440000     21.510000  \n",
       "75%                       1668.00000       48687.880000     26.000000  \n",
       "max                       3240.00000      367778.000000     30.650000  "
      ]
     },
     "execution_count": 5,
     "metadata": {},
     "output_type": "execute_result"
    }
   ],
   "source": [
    "crop_data.describe()"
   ]
  },
  {
   "cell_type": "code",
   "execution_count": 6,
   "id": "3fd975bd",
   "metadata": {},
   "outputs": [],
   "source": [
    "crop_data=crop_data.drop('Unnamed: 0',axis=1)"
   ]
  },
  {
   "cell_type": "code",
   "execution_count": 7,
   "id": "62b26f22",
   "metadata": {},
   "outputs": [
    {
     "data": {
      "text/html": [
       "<div>\n",
       "<style scoped>\n",
       "    .dataframe tbody tr th:only-of-type {\n",
       "        vertical-align: middle;\n",
       "    }\n",
       "\n",
       "    .dataframe tbody tr th {\n",
       "        vertical-align: top;\n",
       "    }\n",
       "\n",
       "    .dataframe thead th {\n",
       "        text-align: right;\n",
       "    }\n",
       "</style>\n",
       "<table border=\"1\" class=\"dataframe\">\n",
       "  <thead>\n",
       "    <tr style=\"text-align: right;\">\n",
       "      <th></th>\n",
       "      <th>Area</th>\n",
       "      <th>crop</th>\n",
       "      <th>Year</th>\n",
       "      <th>hg/ha_yield</th>\n",
       "      <th>average_rain_fall_mm_per_year</th>\n",
       "      <th>pesticides_tonnes</th>\n",
       "      <th>avg_temp</th>\n",
       "    </tr>\n",
       "  </thead>\n",
       "  <tbody>\n",
       "    <tr>\n",
       "      <th>0</th>\n",
       "      <td>Albania</td>\n",
       "      <td>Maize</td>\n",
       "      <td>1990</td>\n",
       "      <td>36613</td>\n",
       "      <td>1485</td>\n",
       "      <td>121.0</td>\n",
       "      <td>16.37</td>\n",
       "    </tr>\n",
       "    <tr>\n",
       "      <th>1</th>\n",
       "      <td>Albania</td>\n",
       "      <td>Potatoes</td>\n",
       "      <td>1990</td>\n",
       "      <td>66667</td>\n",
       "      <td>1485</td>\n",
       "      <td>121.0</td>\n",
       "      <td>16.37</td>\n",
       "    </tr>\n",
       "    <tr>\n",
       "      <th>2</th>\n",
       "      <td>Albania</td>\n",
       "      <td>Rice, paddy</td>\n",
       "      <td>1990</td>\n",
       "      <td>23333</td>\n",
       "      <td>1485</td>\n",
       "      <td>121.0</td>\n",
       "      <td>16.37</td>\n",
       "    </tr>\n",
       "    <tr>\n",
       "      <th>3</th>\n",
       "      <td>Albania</td>\n",
       "      <td>Sorghum</td>\n",
       "      <td>1990</td>\n",
       "      <td>12500</td>\n",
       "      <td>1485</td>\n",
       "      <td>121.0</td>\n",
       "      <td>16.37</td>\n",
       "    </tr>\n",
       "    <tr>\n",
       "      <th>4</th>\n",
       "      <td>Albania</td>\n",
       "      <td>Soybeans</td>\n",
       "      <td>1990</td>\n",
       "      <td>7000</td>\n",
       "      <td>1485</td>\n",
       "      <td>121.0</td>\n",
       "      <td>16.37</td>\n",
       "    </tr>\n",
       "  </tbody>\n",
       "</table>\n",
       "</div>"
      ],
      "text/plain": [
       "      Area         crop  Year  hg/ha_yield  average_rain_fall_mm_per_year  \\\n",
       "0  Albania        Maize  1990        36613                           1485   \n",
       "1  Albania     Potatoes  1990        66667                           1485   \n",
       "2  Albania  Rice, paddy  1990        23333                           1485   \n",
       "3  Albania      Sorghum  1990        12500                           1485   \n",
       "4  Albania     Soybeans  1990         7000                           1485   \n",
       "\n",
       "   pesticides_tonnes  avg_temp  \n",
       "0              121.0     16.37  \n",
       "1              121.0     16.37  \n",
       "2              121.0     16.37  \n",
       "3              121.0     16.37  \n",
       "4              121.0     16.37  "
      ]
     },
     "execution_count": 7,
     "metadata": {},
     "output_type": "execute_result"
    }
   ],
   "source": [
    "crop_data.head()"
   ]
  },
  {
   "cell_type": "code",
   "execution_count": 8,
   "id": "9f7ad572",
   "metadata": {},
   "outputs": [],
   "source": [
    "import matplotlib.pyplot as plt\n",
    "import seaborn as sns"
   ]
  },
  {
   "cell_type": "code",
   "execution_count": 9,
   "id": "c1313789",
   "metadata": {},
   "outputs": [
    {
     "data": {
      "text/plain": [
       "Index(['Area', 'crop', 'Year', 'hg/ha_yield', 'average_rain_fall_mm_per_year',\n",
       "       'pesticides_tonnes', 'avg_temp'],\n",
       "      dtype='object')"
      ]
     },
     "execution_count": 9,
     "metadata": {},
     "output_type": "execute_result"
    }
   ],
   "source": [
    "crop_data.columns"
   ]
  },
  {
   "cell_type": "markdown",
   "id": "6df8edd0",
   "metadata": {},
   "source": [
    "#  Performing EDA"
   ]
  },
  {
   "cell_type": "code",
   "execution_count": 10,
   "id": "a44753ad",
   "metadata": {},
   "outputs": [
    {
     "data": {
      "image/png": "[encoded data removed]",
      "text/plain": [
       "<Figure size 1200x600 with 1 Axes>"
      ]
     },
     "metadata": {},
     "output_type": "display_data"
    }
   ],
   "source": [
    "# crop value count\n",
    "sns.set_style('whitegrid')\n",
    "plt.figure(figsize=(12,6))\n",
    "area_counts=crop_data['crop'].value_counts()\n",
    "plt.bar(x=area_counts.index,\n",
    "       height=area_counts.values)\n",
    "plt.title('crop values count')\n",
    "plt.xlabel('crops')\n",
    "plt.ylabel('crops_counts')\n",
    "plt.show()"
   ]
  },
  {
   "cell_type": "markdown",
   "id": "18673586",
   "metadata": {},
   "source": [
    "# This bar graph tell us that our highest earning crop is potatos according  to the data"
   ]
  },
  {
   "cell_type": "code",
   "execution_count": 11,
   "id": "3c8a2a3d",
   "metadata": {},
   "outputs": [
    {
     "name": "stderr",
     "output_type": "stream",
     "text": [
      "C:\\Users\\91992\\anaconda3\\lib\\site-packages\\seaborn\\_oldcore.py:1119: FutureWarning: use_inf_as_na option is deprecated and will be removed in a future version. Convert inf values to NaN before operating instead.\n",
      "  with pd.option_context('mode.use_inf_as_na', True):\n",
      "C:\\Users\\91992\\anaconda3\\lib\\site-packages\\seaborn\\_oldcore.py:1119: FutureWarning: use_inf_as_na option is deprecated and will be removed in a future version. Convert inf values to NaN before operating instead.\n",
      "  with pd.option_context('mode.use_inf_as_na', True):\n"
     ]
    },
    {
     "data": {
      "image/png": "[encoded data removed]",
      "text/plain": [
       "<Figure size 640x480 with 1 Axes>"
      ]
     },
     "metadata": {},
     "output_type": "display_data"
    }
   ],
   "source": [
    "plt.figure()\n",
    "year_counts = data['Year'].value_counts().sort_index()\n",
    "sns.lineplot(x=year_counts.index, y=year_counts.values, marker='o', color='b')\n",
    "plt.title('Entries Over Years')\n",
    "plt.xlabel('Year')\n",
    "plt.ylabel('Number of Entries')\n",
    "plt.show()"
   ]
  },
  {
   "cell_type": "markdown",
   "id": "7cdaa15b",
   "metadata": {},
   "source": [
    "#  the highest  crop earning increases  after year 1991"
   ]
  },
  {
   "cell_type": "code",
   "execution_count": 12,
   "id": "6c31ded5",
   "metadata": {},
   "outputs": [
    {
     "data": {
      "image/png": "[encoded data removed]",
      "text/plain": [
       "<Figure size 640x480 with 1 Axes>"
      ]
     },
     "metadata": {},
     "output_type": "display_data"
    }
   ],
   "source": [
    "plt.figure()\n",
    "area_counts = data['Area'].value_counts().head(10)\n",
    "sns.barplot(x=area_counts.values, y=area_counts.index, palette='coolwarm')\n",
    "plt.title('Top 10 Areas')\n",
    "plt.xlabel('Count')\n",
    "plt.ylabel('Area')\n",
    "plt.show()"
   ]
  },
  {
   "cell_type": "markdown",
   "id": "cf45f90c",
   "metadata": {},
   "source": [
    "#  India is the highest  crop producer according to the data"
   ]
  },
  {
   "cell_type": "code",
   "execution_count": 13,
   "id": "8f4ba079",
   "metadata": {},
   "outputs": [
    {
     "name": "stderr",
     "output_type": "stream",
     "text": [
      "C:\\Users\\91992\\anaconda3\\lib\\site-packages\\seaborn\\_oldcore.py:1119: FutureWarning: use_inf_as_na option is deprecated and will be removed in a future version. Convert inf values to NaN before operating instead.\n",
      "  with pd.option_context('mode.use_inf_as_na', True):\n"
     ]
    },
    {
     "data": {
      "image/png": "[encoded data removed]",
      "text/plain": [
       "<Figure size 640x480 with 1 Axes>"
      ]
     },
     "metadata": {},
     "output_type": "display_data"
    }
   ],
   "source": [
    "plt.figure()\n",
    "sns.histplot(data['avg_temp'], bins=30, kde=True, color='c')\n",
    "plt.title('Distribution of Average Temperature')\n",
    "plt.xlabel('Average Temperature (°C)')\n",
    "plt.ylabel('Frequency')\n",
    "plt.show()"
   ]
  },
  {
   "cell_type": "markdown",
   "id": "8dd818d7",
   "metadata": {},
   "source": [
    "#  highest frequency of the  average temperature  is about 3700 of  27 degree celcius"
   ]
  },
  {
   "cell_type": "code",
   "execution_count": 14,
   "id": "727a13b7",
   "metadata": {},
   "outputs": [],
   "source": [
    "from sklearn.model_selection import train_test_split\n",
    "from sklearn.preprocessing import LabelEncoder\n",
    "from xgboost import XGBClassifier\n",
    "from sklearn.metrics import mean_squared_error\n",
    "from sklearn.metrics import accuracy_score\n",
    "from sklearn.ensemble import RandomForestClassifier\n",
    "import numpy as np"
   ]
  },
  {
   "cell_type": "code",
   "execution_count": 15,
   "id": "54053df0",
   "metadata": {},
   "outputs": [],
   "source": [
    "crop_data=crop_data.rename(columns={\n",
    "    \"average_rain_fall_mm_per_year\": \"Rainfall\",\n",
    "    \"pesticides_tonnes\": \"Pesticides\",\n",
    "    \"avg_temp\": \"Avg_Temp\"\n",
    "})"
   ]
  },
  {
   "cell_type": "code",
   "execution_count": 16,
   "id": "83addd01",
   "metadata": {},
   "outputs": [
    {
     "data": {
      "text/html": [
       "<div>\n",
       "<style scoped>\n",
       "    .dataframe tbody tr th:only-of-type {\n",
       "        vertical-align: middle;\n",
       "    }\n",
       "\n",
       "    .dataframe tbody tr th {\n",
       "        vertical-align: top;\n",
       "    }\n",
       "\n",
       "    .dataframe thead th {\n",
       "        text-align: right;\n",
       "    }\n",
       "</style>\n",
       "<table border=\"1\" class=\"dataframe\">\n",
       "  <thead>\n",
       "    <tr style=\"text-align: right;\">\n",
       "      <th></th>\n",
       "      <th>Area</th>\n",
       "      <th>crop</th>\n",
       "      <th>Year</th>\n",
       "      <th>hg/ha_yield</th>\n",
       "      <th>Rainfall</th>\n",
       "      <th>Pesticides</th>\n",
       "      <th>Avg_Temp</th>\n",
       "    </tr>\n",
       "  </thead>\n",
       "  <tbody>\n",
       "    <tr>\n",
       "      <th>0</th>\n",
       "      <td>Albania</td>\n",
       "      <td>Maize</td>\n",
       "      <td>1990</td>\n",
       "      <td>36613</td>\n",
       "      <td>1485</td>\n",
       "      <td>121.00</td>\n",
       "      <td>16.37</td>\n",
       "    </tr>\n",
       "    <tr>\n",
       "      <th>1</th>\n",
       "      <td>Albania</td>\n",
       "      <td>Potatoes</td>\n",
       "      <td>1990</td>\n",
       "      <td>66667</td>\n",
       "      <td>1485</td>\n",
       "      <td>121.00</td>\n",
       "      <td>16.37</td>\n",
       "    </tr>\n",
       "    <tr>\n",
       "      <th>2</th>\n",
       "      <td>Albania</td>\n",
       "      <td>Rice, paddy</td>\n",
       "      <td>1990</td>\n",
       "      <td>23333</td>\n",
       "      <td>1485</td>\n",
       "      <td>121.00</td>\n",
       "      <td>16.37</td>\n",
       "    </tr>\n",
       "    <tr>\n",
       "      <th>3</th>\n",
       "      <td>Albania</td>\n",
       "      <td>Sorghum</td>\n",
       "      <td>1990</td>\n",
       "      <td>12500</td>\n",
       "      <td>1485</td>\n",
       "      <td>121.00</td>\n",
       "      <td>16.37</td>\n",
       "    </tr>\n",
       "    <tr>\n",
       "      <th>4</th>\n",
       "      <td>Albania</td>\n",
       "      <td>Soybeans</td>\n",
       "      <td>1990</td>\n",
       "      <td>7000</td>\n",
       "      <td>1485</td>\n",
       "      <td>121.00</td>\n",
       "      <td>16.37</td>\n",
       "    </tr>\n",
       "    <tr>\n",
       "      <th>...</th>\n",
       "      <td>...</td>\n",
       "      <td>...</td>\n",
       "      <td>...</td>\n",
       "      <td>...</td>\n",
       "      <td>...</td>\n",
       "      <td>...</td>\n",
       "      <td>...</td>\n",
       "    </tr>\n",
       "    <tr>\n",
       "      <th>28237</th>\n",
       "      <td>Zimbabwe</td>\n",
       "      <td>Rice, paddy</td>\n",
       "      <td>2013</td>\n",
       "      <td>22581</td>\n",
       "      <td>657</td>\n",
       "      <td>2550.07</td>\n",
       "      <td>19.76</td>\n",
       "    </tr>\n",
       "    <tr>\n",
       "      <th>28238</th>\n",
       "      <td>Zimbabwe</td>\n",
       "      <td>Sorghum</td>\n",
       "      <td>2013</td>\n",
       "      <td>3066</td>\n",
       "      <td>657</td>\n",
       "      <td>2550.07</td>\n",
       "      <td>19.76</td>\n",
       "    </tr>\n",
       "    <tr>\n",
       "      <th>28239</th>\n",
       "      <td>Zimbabwe</td>\n",
       "      <td>Soybeans</td>\n",
       "      <td>2013</td>\n",
       "      <td>13142</td>\n",
       "      <td>657</td>\n",
       "      <td>2550.07</td>\n",
       "      <td>19.76</td>\n",
       "    </tr>\n",
       "    <tr>\n",
       "      <th>28240</th>\n",
       "      <td>Zimbabwe</td>\n",
       "      <td>Sweet potatoes</td>\n",
       "      <td>2013</td>\n",
       "      <td>22222</td>\n",
       "      <td>657</td>\n",
       "      <td>2550.07</td>\n",
       "      <td>19.76</td>\n",
       "    </tr>\n",
       "    <tr>\n",
       "      <th>28241</th>\n",
       "      <td>Zimbabwe</td>\n",
       "      <td>Wheat</td>\n",
       "      <td>2013</td>\n",
       "      <td>22888</td>\n",
       "      <td>657</td>\n",
       "      <td>2550.07</td>\n",
       "      <td>19.76</td>\n",
       "    </tr>\n",
       "  </tbody>\n",
       "</table>\n",
       "<p>28242 rows × 7 columns</p>\n",
       "</div>"
      ],
      "text/plain": [
       "           Area            crop  Year  hg/ha_yield  Rainfall  Pesticides  \\\n",
       "0       Albania           Maize  1990        36613      1485      121.00   \n",
       "1       Albania        Potatoes  1990        66667      1485      121.00   \n",
       "2       Albania     Rice, paddy  1990        23333      1485      121.00   \n",
       "3       Albania         Sorghum  1990        12500      1485      121.00   \n",
       "4       Albania        Soybeans  1990         7000      1485      121.00   \n",
       "...         ...             ...   ...          ...       ...         ...   \n",
       "28237  Zimbabwe     Rice, paddy  2013        22581       657     2550.07   \n",
       "28238  Zimbabwe         Sorghum  2013         3066       657     2550.07   \n",
       "28239  Zimbabwe        Soybeans  2013        13142       657     2550.07   \n",
       "28240  Zimbabwe  Sweet potatoes  2013        22222       657     2550.07   \n",
       "28241  Zimbabwe           Wheat  2013        22888       657     2550.07   \n",
       "\n",
       "       Avg_Temp  \n",
       "0         16.37  \n",
       "1         16.37  \n",
       "2         16.37  \n",
       "3         16.37  \n",
       "4         16.37  \n",
       "...         ...  \n",
       "28237     19.76  \n",
       "28238     19.76  \n",
       "28239     19.76  \n",
       "28240     19.76  \n",
       "28241     19.76  \n",
       "\n",
       "[28242 rows x 7 columns]"
      ]
     },
     "execution_count": 16,
     "metadata": {},
     "output_type": "execute_result"
    }
   ],
   "source": [
    "crop_data"
   ]
  },
  {
   "cell_type": "code",
   "execution_count": 17,
   "id": "aff20686",
   "metadata": {},
   "outputs": [],
   "source": [
    "# Encode categorical variable\n",
    "label_encoder=LabelEncoder()\n",
    "crop_data['Area'] = label_encoder.fit_transform(data['Area'])\n",
    "crop_data['crop'] = label_encoder.fit_transform(data['crop'])"
   ]
  },
  {
   "cell_type": "code",
   "execution_count": 18,
   "id": "47b8a475",
   "metadata": {
    "scrolled": false
   },
   "outputs": [
    {
     "data": {
      "text/html": [
       "<div>\n",
       "<style scoped>\n",
       "    .dataframe tbody tr th:only-of-type {\n",
       "        vertical-align: middle;\n",
       "    }\n",
       "\n",
       "    .dataframe tbody tr th {\n",
       "        vertical-align: top;\n",
       "    }\n",
       "\n",
       "    .dataframe thead th {\n",
       "        text-align: right;\n",
       "    }\n",
       "</style>\n",
       "<table border=\"1\" class=\"dataframe\">\n",
       "  <thead>\n",
       "    <tr style=\"text-align: right;\">\n",
       "      <th></th>\n",
       "      <th>Area</th>\n",
       "      <th>crop</th>\n",
       "      <th>Year</th>\n",
       "      <th>hg/ha_yield</th>\n",
       "      <th>Rainfall</th>\n",
       "      <th>Pesticides</th>\n",
       "      <th>Avg_Temp</th>\n",
       "    </tr>\n",
       "  </thead>\n",
       "  <tbody>\n",
       "    <tr>\n",
       "      <th>0</th>\n",
       "      <td>0</td>\n",
       "      <td>1</td>\n",
       "      <td>1990</td>\n",
       "      <td>36613</td>\n",
       "      <td>1485</td>\n",
       "      <td>121.00</td>\n",
       "      <td>16.37</td>\n",
       "    </tr>\n",
       "    <tr>\n",
       "      <th>1</th>\n",
       "      <td>0</td>\n",
       "      <td>3</td>\n",
       "      <td>1990</td>\n",
       "      <td>66667</td>\n",
       "      <td>1485</td>\n",
       "      <td>121.00</td>\n",
       "      <td>16.37</td>\n",
       "    </tr>\n",
       "    <tr>\n",
       "      <th>2</th>\n",
       "      <td>0</td>\n",
       "      <td>4</td>\n",
       "      <td>1990</td>\n",
       "      <td>23333</td>\n",
       "      <td>1485</td>\n",
       "      <td>121.00</td>\n",
       "      <td>16.37</td>\n",
       "    </tr>\n",
       "    <tr>\n",
       "      <th>3</th>\n",
       "      <td>0</td>\n",
       "      <td>5</td>\n",
       "      <td>1990</td>\n",
       "      <td>12500</td>\n",
       "      <td>1485</td>\n",
       "      <td>121.00</td>\n",
       "      <td>16.37</td>\n",
       "    </tr>\n",
       "    <tr>\n",
       "      <th>4</th>\n",
       "      <td>0</td>\n",
       "      <td>6</td>\n",
       "      <td>1990</td>\n",
       "      <td>7000</td>\n",
       "      <td>1485</td>\n",
       "      <td>121.00</td>\n",
       "      <td>16.37</td>\n",
       "    </tr>\n",
       "    <tr>\n",
       "      <th>...</th>\n",
       "      <td>...</td>\n",
       "      <td>...</td>\n",
       "      <td>...</td>\n",
       "      <td>...</td>\n",
       "      <td>...</td>\n",
       "      <td>...</td>\n",
       "      <td>...</td>\n",
       "    </tr>\n",
       "    <tr>\n",
       "      <th>28237</th>\n",
       "      <td>100</td>\n",
       "      <td>4</td>\n",
       "      <td>2013</td>\n",
       "      <td>22581</td>\n",
       "      <td>657</td>\n",
       "      <td>2550.07</td>\n",
       "      <td>19.76</td>\n",
       "    </tr>\n",
       "    <tr>\n",
       "      <th>28238</th>\n",
       "      <td>100</td>\n",
       "      <td>5</td>\n",
       "      <td>2013</td>\n",
       "      <td>3066</td>\n",
       "      <td>657</td>\n",
       "      <td>2550.07</td>\n",
       "      <td>19.76</td>\n",
       "    </tr>\n",
       "    <tr>\n",
       "      <th>28239</th>\n",
       "      <td>100</td>\n",
       "      <td>6</td>\n",
       "      <td>2013</td>\n",
       "      <td>13142</td>\n",
       "      <td>657</td>\n",
       "      <td>2550.07</td>\n",
       "      <td>19.76</td>\n",
       "    </tr>\n",
       "    <tr>\n",
       "      <th>28240</th>\n",
       "      <td>100</td>\n",
       "      <td>7</td>\n",
       "      <td>2013</td>\n",
       "      <td>22222</td>\n",
       "      <td>657</td>\n",
       "      <td>2550.07</td>\n",
       "      <td>19.76</td>\n",
       "    </tr>\n",
       "    <tr>\n",
       "      <th>28241</th>\n",
       "      <td>100</td>\n",
       "      <td>8</td>\n",
       "      <td>2013</td>\n",
       "      <td>22888</td>\n",
       "      <td>657</td>\n",
       "      <td>2550.07</td>\n",
       "      <td>19.76</td>\n",
       "    </tr>\n",
       "  </tbody>\n",
       "</table>\n",
       "<p>28242 rows × 7 columns</p>\n",
       "</div>"
      ],
      "text/plain": [
       "       Area  crop  Year  hg/ha_yield  Rainfall  Pesticides  Avg_Temp\n",
       "0         0     1  1990        36613      1485      121.00     16.37\n",
       "1         0     3  1990        66667      1485      121.00     16.37\n",
       "2         0     4  1990        23333      1485      121.00     16.37\n",
       "3         0     5  1990        12500      1485      121.00     16.37\n",
       "4         0     6  1990         7000      1485      121.00     16.37\n",
       "...     ...   ...   ...          ...       ...         ...       ...\n",
       "28237   100     4  2013        22581       657     2550.07     19.76\n",
       "28238   100     5  2013         3066       657     2550.07     19.76\n",
       "28239   100     6  2013        13142       657     2550.07     19.76\n",
       "28240   100     7  2013        22222       657     2550.07     19.76\n",
       "28241   100     8  2013        22888       657     2550.07     19.76\n",
       "\n",
       "[28242 rows x 7 columns]"
      ]
     },
     "execution_count": 18,
     "metadata": {},
     "output_type": "execute_result"
    }
   ],
   "source": [
    "crop_data"
   ]
  },
  {
   "cell_type": "code",
   "execution_count": 19,
   "id": "33e4d58f",
   "metadata": {
    "scrolled": false
   },
   "outputs": [
    {
     "data": {
      "image/png": "[encoded data removed]",
      "text/plain": [
       "<Figure size 1000x800 with 2 Axes>"
      ]
     },
     "metadata": {},
     "output_type": "display_data"
    }
   ],
   "source": [
    "cor_matrix=crop_data.corr(numeric_only=True)\n",
    "\n",
    "# creating  a heatmap to visulaize the correlation matrix\n",
    "plt.figure(figsize=(10,8))\n",
    "sns.heatmap(cor_matrix,annot=True,\n",
    "           cmap='cool',\n",
    "           fmt='.2f',\n",
    "           linewidth=0.5)\n",
    "plt.title('correlation between variables in a dataset')\n",
    "plt.show()"
   ]
  },
  {
   "cell_type": "code",
   "execution_count": 20,
   "id": "93e29b9d",
   "metadata": {},
   "outputs": [],
   "source": [
    "# define feature and target variable\n",
    "X = crop_data.drop(columns=['crop'])\n",
    "y = crop_data['crop']"
   ]
  },
  {
   "cell_type": "code",
   "execution_count": 21,
   "id": "35d1e43a",
   "metadata": {},
   "outputs": [],
   "source": [
    "# Split the data into training and testing sets\n",
    "X_train, X_test, y_train, y_test = train_test_split(X, y, test_size=0.2, random_state=42)"
   ]
  },
  {
   "cell_type": "code",
   "execution_count": 22,
   "id": "5bb0b5d8",
   "metadata": {},
   "outputs": [
    {
     "name": "stdout",
     "output_type": "stream",
     "text": [
      "(22593, 6) (5649, 6) (22593,) (5649,)\n"
     ]
    }
   ],
   "source": [
    "print(X_train.shape, X_test.shape, y_train.shape, y_test.shape)"
   ]
  },
  {
   "cell_type": "markdown",
   "id": "5c7bd866",
   "metadata": {},
   "source": [
    "# Random Forest model building"
   ]
  },
  {
   "cell_type": "code",
   "execution_count": 23,
   "id": "8da2ccb2",
   "metadata": {},
   "outputs": [
    {
     "data": {
      "text/html": [
       "<style>#sk-container-id-1 {color: black;background-color: white;}#sk-container-id-1 pre{padding: 0;}#sk-container-id-1 div.sk-toggleable {background-color: white;}#sk-container-id-1 label.sk-toggleable__label {cursor: pointer;display: block;width: 100%;margin-bottom: 0;padding: 0.3em;box-sizing: border-box;text-align: center;}#sk-container-id-1 label.sk-toggleable__label-arrow:before {content: \"▸\";float: left;margin-right: 0.25em;color: #696969;}#sk-container-id-1 label.sk-toggleable__label-arrow:hover:before {color: black;}#sk-container-id-1 div.sk-estimator:hover label.sk-toggleable__label-arrow:before {color: black;}#sk-container-id-1 div.sk-toggleable__content {max-height: 0;max-width: 0;overflow: hidden;text-align: left;background-color: #f0f8ff;}#sk-container-id-1 div.sk-toggleable__content pre {margin: 0.2em;color: black;border-radius: 0.25em;background-color: #f0f8ff;}#sk-container-id-1 input.sk-toggleable__control:checked~div.sk-toggleable__content {max-height: 200px;max-width: 100%;overflow: auto;}#sk-container-id-1 input.sk-toggleable__control:checked~label.sk-toggleable__label-arrow:before {content: \"▾\";}#sk-container-id-1 div.sk-estimator input.sk-toggleable__control:checked~label.sk-toggleable__label {background-color: #d4ebff;}#sk-container-id-1 div.sk-label input.sk-toggleable__control:checked~label.sk-toggleable__label {background-color: #d4ebff;}#sk-container-id-1 input.sk-hidden--visually {border: 0;clip: rect(1px 1px 1px 1px);clip: rect(1px, 1px, 1px, 1px);height: 1px;margin: -1px;overflow: hidden;padding: 0;position: absolute;width: 1px;}#sk-container-id-1 div.sk-estimator {font-family: monospace;background-color: #f0f8ff;border: 1px dotted black;border-radius: 0.25em;box-sizing: border-box;margin-bottom: 0.5em;}#sk-container-id-1 div.sk-estimator:hover {background-color: #d4ebff;}#sk-container-id-1 div.sk-parallel-item::after {content: \"\";width: 100%;border-bottom: 1px solid gray;flex-grow: 1;}#sk-container-id-1 div.sk-label:hover label.sk-toggleable__label {background-color: #d4ebff;}#sk-container-id-1 div.sk-serial::before {content: \"\";position: absolute;border-left: 1px solid gray;box-sizing: border-box;top: 0;bottom: 0;left: 50%;z-index: 0;}#sk-container-id-1 div.sk-serial {display: flex;flex-direction: column;align-items: center;background-color: white;padding-right: 0.2em;padding-left: 0.2em;position: relative;}#sk-container-id-1 div.sk-item {position: relative;z-index: 1;}#sk-container-id-1 div.sk-parallel {display: flex;align-items: stretch;justify-content: center;background-color: white;position: relative;}#sk-container-id-1 div.sk-item::before, #sk-container-id-1 div.sk-parallel-item::before {content: \"\";position: absolute;border-left: 1px solid gray;box-sizing: border-box;top: 0;bottom: 0;left: 50%;z-index: -1;}#sk-container-id-1 div.sk-parallel-item {display: flex;flex-direction: column;z-index: 1;position: relative;background-color: white;}#sk-container-id-1 div.sk-parallel-item:first-child::after {align-self: flex-end;width: 50%;}#sk-container-id-1 div.sk-parallel-item:last-child::after {align-self: flex-start;width: 50%;}#sk-container-id-1 div.sk-parallel-item:only-child::after {width: 0;}#sk-container-id-1 div.sk-dashed-wrapped {border: 1px dashed gray;margin: 0 0.4em 0.5em 0.4em;box-sizing: border-box;padding-bottom: 0.4em;background-color: white;}#sk-container-id-1 div.sk-label label {font-family: monospace;font-weight: bold;display: inline-block;line-height: 1.2em;}#sk-container-id-1 div.sk-label-container {text-align: center;}#sk-container-id-1 div.sk-container {/* jupyter's `normalize.less` sets `[hidden] { display: none; }` but bootstrap.min.css set `[hidden] { display: none !important; }` so we also need the `!important` here to be able to override the default hidden behavior on the sphinx rendered scikit-learn.org. See: https://github.com/scikit-learn/scikit-learn/issues/21755 */display: inline-block !important;position: relative;}#sk-container-id-1 div.sk-text-repr-fallback {display: none;}</style><div id=\"sk-container-id-1\" class=\"sk-top-container\"><div class=\"sk-text-repr-fallback\"><pre>RandomForestClassifier(random_state=42)</pre><b>In a Jupyter environment, please rerun this cell to show the HTML representation or trust the notebook. <br />On GitHub, the HTML representation is unable to render, please try loading this page with nbviewer.org.</b></div><div class=\"sk-container\" hidden><div class=\"sk-item\"><div class=\"sk-estimator sk-toggleable\"><input class=\"sk-toggleable__control sk-hidden--visually\" id=\"sk-estimator-id-1\" type=\"checkbox\" checked><label for=\"sk-estimator-id-1\" class=\"sk-toggleable__label sk-toggleable__label-arrow\">RandomForestClassifier</label><div class=\"sk-toggleable__content\"><pre>RandomForestClassifier(random_state=42)</pre></div></div></div></div></div>"
      ],
      "text/plain": [
       "RandomForestClassifier(random_state=42)"
      ]
     },
     "execution_count": 23,
     "metadata": {},
     "output_type": "execute_result"
    }
   ],
   "source": [
    "rf_model = RandomForestClassifier(random_state=42)\n",
    "rf_model.fit(X_train, y_train)\n"
   ]
  },
  {
   "cell_type": "code",
   "execution_count": 24,
   "id": "c21b27b5",
   "metadata": {},
   "outputs": [],
   "source": [
    "y_pred_rf=rf_model.predict(X_test)"
   ]
  },
  {
   "cell_type": "code",
   "execution_count": 25,
   "id": "409f3766",
   "metadata": {},
   "outputs": [
    {
     "data": {
      "text/plain": [
       "array([4, 4, 5, ..., 0, 1, 5])"
      ]
     },
     "execution_count": 25,
     "metadata": {},
     "output_type": "execute_result"
    }
   ],
   "source": [
    "y_pred_rf"
   ]
  },
  {
   "cell_type": "code",
   "execution_count": 26,
   "id": "dd815ea6",
   "metadata": {},
   "outputs": [],
   "source": [
    "rmse_rf=np.sqrt(mean_squared_error(y_test,y_pred_rf))\n",
    "accuracy_rf=rf_model.score(X_test,y_test)"
   ]
  },
  {
   "cell_type": "code",
   "execution_count": 27,
   "id": "606c0dcb",
   "metadata": {},
   "outputs": [
    {
     "name": "stdout",
     "output_type": "stream",
     "text": [
      "Randomforest model algorithm results\n",
      "RMSE RF: 1.737713870430321\n",
      "Acc RF: 82.81%\n"
     ]
    }
   ],
   "source": [
    "print(\"Randomforest model algorithm results\")\n",
    "print(f\"RMSE RF: {rmse_rf}\")\n",
    "print(f\"Acc RF: {round(accuracy_rf*100,2)}%\")"
   ]
  },
  {
   "cell_type": "markdown",
   "id": "2819e4cd",
   "metadata": {},
   "source": [
    "#  Randomforest model algorithm results\n",
    "# RMSE RF: 1.737713870430321\n",
    "# Acc RF: 82.81%"
   ]
  },
  {
   "cell_type": "code",
   "execution_count": 28,
   "id": "d35635f8",
   "metadata": {},
   "outputs": [],
   "source": [
    "from sklearn.tree import DecisionTreeClassifier"
   ]
  },
  {
   "cell_type": "code",
   "execution_count": 29,
   "id": "149805da",
   "metadata": {},
   "outputs": [],
   "source": [
    "from sklearn.metrics import mean_squared_error"
   ]
  },
  {
   "cell_type": "markdown",
   "id": "7e4ce69b",
   "metadata": {},
   "source": [
    "#  Decision tree model building"
   ]
  },
  {
   "cell_type": "code",
   "execution_count": 30,
   "id": "25a410d4",
   "metadata": {},
   "outputs": [
    {
     "data": {
      "text/html": [
       "<style>#sk-container-id-2 {color: black;background-color: white;}#sk-container-id-2 pre{padding: 0;}#sk-container-id-2 div.sk-toggleable {background-color: white;}#sk-container-id-2 label.sk-toggleable__label {cursor: pointer;display: block;width: 100%;margin-bottom: 0;padding: 0.3em;box-sizing: border-box;text-align: center;}#sk-container-id-2 label.sk-toggleable__label-arrow:before {content: \"▸\";float: left;margin-right: 0.25em;color: #696969;}#sk-container-id-2 label.sk-toggleable__label-arrow:hover:before {color: black;}#sk-container-id-2 div.sk-estimator:hover label.sk-toggleable__label-arrow:before {color: black;}#sk-container-id-2 div.sk-toggleable__content {max-height: 0;max-width: 0;overflow: hidden;text-align: left;background-color: #f0f8ff;}#sk-container-id-2 div.sk-toggleable__content pre {margin: 0.2em;color: black;border-radius: 0.25em;background-color: #f0f8ff;}#sk-container-id-2 input.sk-toggleable__control:checked~div.sk-toggleable__content {max-height: 200px;max-width: 100%;overflow: auto;}#sk-container-id-2 input.sk-toggleable__control:checked~label.sk-toggleable__label-arrow:before {content: \"▾\";}#sk-container-id-2 div.sk-estimator input.sk-toggleable__control:checked~label.sk-toggleable__label {background-color: #d4ebff;}#sk-container-id-2 div.sk-label input.sk-toggleable__control:checked~label.sk-toggleable__label {background-color: #d4ebff;}#sk-container-id-2 input.sk-hidden--visually {border: 0;clip: rect(1px 1px 1px 1px);clip: rect(1px, 1px, 1px, 1px);height: 1px;margin: -1px;overflow: hidden;padding: 0;position: absolute;width: 1px;}#sk-container-id-2 div.sk-estimator {font-family: monospace;background-color: #f0f8ff;border: 1px dotted black;border-radius: 0.25em;box-sizing: border-box;margin-bottom: 0.5em;}#sk-container-id-2 div.sk-estimator:hover {background-color: #d4ebff;}#sk-container-id-2 div.sk-parallel-item::after {content: \"\";width: 100%;border-bottom: 1px solid gray;flex-grow: 1;}#sk-container-id-2 div.sk-label:hover label.sk-toggleable__label {background-color: #d4ebff;}#sk-container-id-2 div.sk-serial::before {content: \"\";position: absolute;border-left: 1px solid gray;box-sizing: border-box;top: 0;bottom: 0;left: 50%;z-index: 0;}#sk-container-id-2 div.sk-serial {display: flex;flex-direction: column;align-items: center;background-color: white;padding-right: 0.2em;padding-left: 0.2em;position: relative;}#sk-container-id-2 div.sk-item {position: relative;z-index: 1;}#sk-container-id-2 div.sk-parallel {display: flex;align-items: stretch;justify-content: center;background-color: white;position: relative;}#sk-container-id-2 div.sk-item::before, #sk-container-id-2 div.sk-parallel-item::before {content: \"\";position: absolute;border-left: 1px solid gray;box-sizing: border-box;top: 0;bottom: 0;left: 50%;z-index: -1;}#sk-container-id-2 div.sk-parallel-item {display: flex;flex-direction: column;z-index: 1;position: relative;background-color: white;}#sk-container-id-2 div.sk-parallel-item:first-child::after {align-self: flex-end;width: 50%;}#sk-container-id-2 div.sk-parallel-item:last-child::after {align-self: flex-start;width: 50%;}#sk-container-id-2 div.sk-parallel-item:only-child::after {width: 0;}#sk-container-id-2 div.sk-dashed-wrapped {border: 1px dashed gray;margin: 0 0.4em 0.5em 0.4em;box-sizing: border-box;padding-bottom: 0.4em;background-color: white;}#sk-container-id-2 div.sk-label label {font-family: monospace;font-weight: bold;display: inline-block;line-height: 1.2em;}#sk-container-id-2 div.sk-label-container {text-align: center;}#sk-container-id-2 div.sk-container {/* jupyter's `normalize.less` sets `[hidden] { display: none; }` but bootstrap.min.css set `[hidden] { display: none !important; }` so we also need the `!important` here to be able to override the default hidden behavior on the sphinx rendered scikit-learn.org. See: https://github.com/scikit-learn/scikit-learn/issues/21755 */display: inline-block !important;position: relative;}#sk-container-id-2 div.sk-text-repr-fallback {display: none;}</style><div id=\"sk-container-id-2\" class=\"sk-top-container\"><div class=\"sk-text-repr-fallback\"><pre>DecisionTreeClassifier(random_state=42)</pre><b>In a Jupyter environment, please rerun this cell to show the HTML representation or trust the notebook. <br />On GitHub, the HTML representation is unable to render, please try loading this page with nbviewer.org.</b></div><div class=\"sk-container\" hidden><div class=\"sk-item\"><div class=\"sk-estimator sk-toggleable\"><input class=\"sk-toggleable__control sk-hidden--visually\" id=\"sk-estimator-id-2\" type=\"checkbox\" checked><label for=\"sk-estimator-id-2\" class=\"sk-toggleable__label sk-toggleable__label-arrow\">DecisionTreeClassifier</label><div class=\"sk-toggleable__content\"><pre>DecisionTreeClassifier(random_state=42)</pre></div></div></div></div></div>"
      ],
      "text/plain": [
       "DecisionTreeClassifier(random_state=42)"
      ]
     },
     "execution_count": 30,
     "metadata": {},
     "output_type": "execute_result"
    }
   ],
   "source": [
    "# Step 3: Train the Decision Tree Model\n",
    "dt_model = DecisionTreeClassifier(random_state=42)\n",
    "dt_model.fit(X_train, y_train)"
   ]
  },
  {
   "cell_type": "code",
   "execution_count": 31,
   "id": "1b7d1a4f",
   "metadata": {},
   "outputs": [],
   "source": [
    "#Evaluate the Model\n",
    "y_pred = dt_model.predict(X_test)\n",
    "accuracy = accuracy_score(y_test, y_pred)\n",
    "\n",
    "y_pred_dt=dt_model.predict(X_test)\n"
   ]
  },
  {
   "cell_type": "code",
   "execution_count": 32,
   "id": "6ec48028",
   "metadata": {},
   "outputs": [],
   "source": [
    "rmse_dt=np.sqrt(mean_squared_error(y_test,y_pred_dt))\n",
    "accuracy_dt=dt_model.score(X_test,y_test)"
   ]
  },
  {
   "cell_type": "code",
   "execution_count": 33,
   "id": "b1e025de",
   "metadata": {},
   "outputs": [
    {
     "name": "stdout",
     "output_type": "stream",
     "text": [
      "Decision tree algorithm results\n",
      "RMSE RF: 1.6476701070697617\n",
      "Acc RF: 85.24%\n"
     ]
    }
   ],
   "source": [
    "print(\"Decision tree algorithm results\")\n",
    "print(f\"RMSE RF: {rmse_dt}\")\n",
    "print(f\"Acc RF: {round(accuracy*100,2)}%\")"
   ]
  },
  {
   "cell_type": "markdown",
   "id": "e33e250b",
   "metadata": {},
   "source": [
    "#  Decision  Tree model results\n",
    "# RMSE RF: 1.6476701070697617\n",
    "# Acc DT: 85.24%"
   ]
  },
  {
   "cell_type": "code",
   "execution_count": 34,
   "id": "e4fe1cc6",
   "metadata": {},
   "outputs": [],
   "source": [
    "# import necessary libraries\n",
    "from xgboost import XGBClassifier\n",
    "from lightgbm import LGBMClassifier\n",
    "from sklearn.model_selection import  GridSearchCV, RandomizedSearchCV\n",
    "from sklearn.metrics import  accuracy_score"
   ]
  },
  {
   "cell_type": "markdown",
   "id": "f03d02eb",
   "metadata": {},
   "source": [
    "# Build an XGBoost model for optimizing the accuracy of an algorithm"
   ]
  },
  {
   "cell_type": "code",
   "execution_count": 35,
   "id": "7cedc738",
   "metadata": {},
   "outputs": [],
   "source": [
    "# Define the XGBoost model\n",
    "xgb=XGBClassifier(use_label_encoder=False, eval_metric='logloss')"
   ]
  },
  {
   "cell_type": "code",
   "execution_count": 36,
   "id": "593e42ee",
   "metadata": {},
   "outputs": [],
   "source": [
    "# Define the parameter grid for XGBoost\n",
    "xgb_param_grid = {\n",
    "    'learning_rate': [0.01, 0.1, 0.2],\n",
    "    'max_depth': [3, 5, 7],\n",
    "    'n_estimators': [100, 200, 300],\n",
    "    'subsample': [0.7, 0.8, 0.9],\n",
    "    'colsample_bytree': [0.7, 0.8, 0.9]\n",
    "}"
   ]
  },
  {
   "cell_type": "code",
   "execution_count": null,
   "id": "ac79e3be",
   "metadata": {},
   "outputs": [],
   "source": [
    "# Perform Grid Search for XGBoost\n",
    "xgb_grid_search = GridSearchCV(estimator=xgb, param_grid=xgb_param_grid, scoring='accuracy', cv=5, n_jobs=-1)\n",
    "xgb_grid_search.fit(X_train, y_train)"
   ]
  },
  {
   "cell_type": "code",
   "execution_count": null,
   "id": "ae3d2cc5",
   "metadata": {},
   "outputs": [],
   "source": [
    "# Best parameters for XGBoost\n",
    "print(\"Best parameters for XGBoost: \", xgb_grid_search.best_params_)"
   ]
  },
  {
   "cell_type": "code",
   "execution_count": null,
   "id": "d1f8ee45",
   "metadata": {},
   "outputs": [],
   "source": [
    "# Predict and evaluate XGBoost model\n",
    "xgb_best = xgb_grid_search.best_estimator_\n",
    "y_pred_xgb = xgb_best.predict(X_test)\n",
    "XGBoost_Accuracy=accuracy_score(y_test, y_pred_xgb)*100\n",
    "print(\"XGBoost accuracy:\",XGBoost_Accuracy)"
   ]
  },
  {
   "cell_type": "markdown",
   "id": "16fdf3af",
   "metadata": {},
   "source": [
    "# Build an Lightgbm model for optimizing the accuracy"
   ]
  },
  {
   "cell_type": "code",
   "execution_count": null,
   "id": "46749690",
   "metadata": {},
   "outputs": [],
   "source": [
    "#LightGBM Hyperparameter Grid\n",
    "\n",
    "lgb_param_grid = {\n",
    "    'n_estimators': [100, 200, 300],\n",
    "    'learning_rate': [0.01, 0.05, 0.1],\n",
    "    'num_leaves': [31, 50, 100],\n",
    "    'subsample': [0.8, 1],\n",
    "    'colsample_bytree': [0.8, 1],\n",
    "    'reg_alpha': [0, 0.1, 0.3],\n",
    "    'reg_lambda': [0, 0.1, 0.3]\n",
    "}\n"
   ]
  },
  {
   "cell_type": "code",
   "execution_count": null,
   "id": "a65686e5",
   "metadata": {},
   "outputs": [],
   "source": [
    "lgb_model = LGBMClassifier()\n",
    "\n",
    "lgb_random_search = RandomizedSearchCV(estimator=lgb_model, param_distributions=lgb_param_grid,\n",
    "                                       n_iter=10, scoring='accuracy', cv=5, verbose=1, random_state=42)\n",
    "\n",
    "lgb_random_search.fit(X_train, y_train)\n",
    "\n",
    "print(\"Best parameters for LightGBM: \", lgb_random_search.best_params_)\n",
    "\n",
    "lgb_best_model = lgb_random_search.best_estimator_\n"
   ]
  },
  {
   "cell_type": "code",
   "execution_count": null,
   "id": "05a597a3",
   "metadata": {},
   "outputs": [],
   "source": [
    "#Evaluate LightGBM Model\n",
    "lgb_predictions = lgb_best_model.predict(X_test)\n",
    "lgb_accuracy = accuracy_score(y_test, lgb_predictions)\n",
    "print(\"LightGBM Accuracy: \", lgb_accuracy*100)\n",
    "lgb_predictions\n"
   ]
  },
  {
   "cell_type": "markdown",
   "id": "696b353d",
   "metadata": {},
   "source": [
    "#  conclusion : BY experimenting both the accuracy optimization algorithm xgboost and lightgbm  we have observed that our lightgbm algorithm gives highest accuracy ac compared to xgboost"
   ]
  },
  {
   "cell_type": "markdown",
   "id": "c18000a7",
   "metadata": {},
   "source": [
    "1 Acc RF: 82.81%,\n",
    "2 Acc DT: 85.24%,\n",
    "3 XGBoost Accuracy:  84.47%,\n",
    "4 LightGBM Accuracy:  85.95%,"
   ]
  },
  {
   "cell_type": "markdown",
   "id": "74f1cec5",
   "metadata": {},
   "source": [
    "#  there is a difference of 70 points  between normal algorithm and accuracy optimaization algorithm \n",
    "# Decision Tree : 85.24\n",
    "# Lightgbm : 85.95%"
   ]
  },
  {
   "cell_type": "markdown",
   "id": "87c07437",
   "metadata": {},
   "source": [
    "#  so now for our project  further deployment we can use our lightgbm algorithm with 85.95% accuracy"
   ]
  },
  {
   "cell_type": "code",
   "execution_count": null,
   "id": "5ab857d7",
   "metadata": {},
   "outputs": [],
   "source": [
    "better_model = 'XGBoost' if XGBoost_Accuracy < lgb_accuracy else 'LightGBM'\n",
    "print(f'The better model is: {better_model}')"
   ]
  },
  {
   "cell_type": "code",
   "execution_count": null,
   "id": "1f56c7b3",
   "metadata": {},
   "outputs": [],
   "source": [
    "if lgb_accuracy > XGBoost_Accuracy:\n",
    "    best_model = lgb_model\n",
    "    best_model_name = 'LightGBM'\n",
    "    print(best_model_name)\n",
    "else:\n",
    "    best_model = xgb\n",
    "    best_model_name = 'XGBoost'\n",
    "\n",
    "# Save the best model\n",
    "#with open('best_model.pkl', 'wb') as f:\n",
    "#    pickle.dump(best_model, f)"
   ]
  },
  {
   "cell_type": "markdown",
   "id": "045d231d",
   "metadata": {},
   "source": [
    "#  Now our next step is build frontend and backend for our model"
   ]
  },
  {
   "cell_type": "code",
   "execution_count": null,
   "id": "37836091",
   "metadata": {},
   "outputs": [],
   "source": [
    "data['Area'].unique().size"
   ]
  },
  {
   "cell_type": "code",
   "execution_count": null,
   "id": "5aa8411f",
   "metadata": {},
   "outputs": [],
   "source": [
    "data['crop'].unique()"
   ]
  },
  {
   "cell_type": "code",
   "execution_count": null,
   "id": "545b99f9",
   "metadata": {},
   "outputs": [],
   "source": [
    "import numpy as np"
   ]
  },
  {
   "cell_type": "code",
   "execution_count": null,
   "id": "a099c959",
   "metadata": {},
   "outputs": [],
   "source": [
    "lgb_best_model.fit(X_train, y_train)"
   ]
  },
  {
   "cell_type": "code",
   "execution_count": null,
   "id": "a315b642",
   "metadata": {},
   "outputs": [],
   "source": []
  },
  {
   "cell_type": "code",
   "execution_count": null,
   "id": "b8dce6fa",
   "metadata": {
    "scrolled": true
   },
   "outputs": [],
   "source": [
    "encoded_area=crop_data['Area'].unique()\n",
    "encoded_area"
   ]
  },
  {
   "cell_type": "code",
   "execution_count": null,
   "id": "76c537da",
   "metadata": {},
   "outputs": [],
   "source": [
    "decode_area=['Albania', 'Algeria', 'Angola', 'Argentina', 'Armenia',\n",
    "       'Australia', 'Austria', 'Azerbaijan', 'Bahamas', 'Bahrain',\n",
    "       'Bangladesh', 'Belarus', 'Belgium', 'Botswana', 'Brazil',\n",
    "       'Bulgaria', 'Burkina Faso', 'Burundi', 'Cameroon', 'Canada',\n",
    "       'Central African Republic', 'Chile', 'Colombia', 'Croatia',\n",
    "       'Denmark', 'Dominican Republic', 'Ecuador', 'Egypt', 'El Salvador',\n",
    "       'Eritrea', 'Estonia', 'Finland', 'France', 'Germany', 'Ghana',\n",
    "       'Greece', 'Guatemala', 'Guinea', 'Guyana', 'Haiti', 'Honduras',\n",
    "       'Hungary', 'India', 'Indonesia', 'Iraq', 'Ireland', 'Italy',\n",
    "       'Jamaica', 'Japan', 'Kazakhstan', 'Kenya', 'Latvia', 'Lebanon',\n",
    "       'Lesotho', 'Libya', 'Lithuania', 'Madagascar', 'Malawi',\n",
    "       'Malaysia', 'Mali', 'Mauritania', 'Mauritius', 'Mexico',\n",
    "       'Montenegro', 'Morocco', 'Mozambique', 'Namibia', 'Nepal',\n",
    "       'Netherlands', 'New Zealand', 'Nicaragua', 'Niger', 'Norway',\n",
    "       'Pakistan', 'Papua New Guinea', 'Peru', 'Poland', 'Portugal',\n",
    "       'Qatar', 'Romania', 'Rwanda', 'Saudi Arabia', 'Senegal',\n",
    "       'Slovenia', 'South Africa', 'Spain', 'Sri Lanka', 'Sudan',\n",
    "       'Suriname', 'Sweden', 'Switzerland', 'Tajikistan', 'Thailand',\n",
    "       'Tunisia', 'Turkey', 'Uganda', 'Ukraine', 'United Kingdom',\n",
    "       'Uruguay', 'Zambia', 'Zimbabwe']"
   ]
  },
  {
   "cell_type": "code",
   "execution_count": null,
   "id": "c8268dc8",
   "metadata": {},
   "outputs": [],
   "source": [
    "# Create a dictionary mapping encode_area to decode_area\n",
    "area_mapping = dict(zip(encoded_area, decode_area))\n",
    "\n",
    "# Print the resulting dictionary\n",
    "print(area_mapping)\n"
   ]
  },
  {
   "cell_type": "code",
   "execution_count": null,
   "id": "105f83ae",
   "metadata": {},
   "outputs": [],
   "source": [
    "X_test.Area.unique()"
   ]
  },
  {
   "cell_type": "code",
   "execution_count": null,
   "id": "ef275019",
   "metadata": {
    "scrolled": true
   },
   "outputs": [],
   "source": [
    "# X_test unique values\n",
    "X_test_unique_values = [85, 56, 22, 42, 14, 73, 64, 74, 26, 17, 100, 70, 80,\n",
    "                        2, 62, 3, 94, 54, 57, 45, 39, 60, 31, 5, 19, 77,\n",
    "                        40, 50, 96, 75, 41, 49, 99, 48, 83, 67, 18, 84, 86,\n",
    "                        97, 95, 43, 37, 55, 82, 27, 59, 81, 69, 46, 66, 91,\n",
    "                        52, 51, 36, 68, 25, 88, 71, 0, 28, 33, 10, 98, 16,\n",
    "                        76, 20, 15, 21, 23, 44, 11, 92, 65, 47, 32, 34, 35,\n",
    "                        13, 8, 79, 90, 6, 93, 1, 9, 53, 58, 38, 30, 29, 24,\n",
    "                        7, 4, 78, 89, 12, 72, 61, 63, 87]\n",
    "\n",
    "# Mapping dictionary\n",
    "area_mapping = {0: 'Albania', 1: 'Algeria', 2: 'Angola', 3: 'Argentina', 4: 'Armenia', 5: 'Australia', 6: 'Austria', \n",
    "                7: 'Azerbaijan', 8: 'Bahamas', 9: 'Bahrain', 10: 'Bangladesh', 11: 'Belarus', 12: 'Belgium', \n",
    "                13: 'Botswana', 14: 'Brazil', 15: 'Bulgaria', 16: 'Burkina Faso', 17: 'Burundi', 18: 'Cameroon', \n",
    "                19: 'Canada', 20: 'Central African Republic', 21: 'Chile', 22: 'Colombia', 23: 'Croatia', \n",
    "                24: 'Denmark', 25: 'Dominican Republic', 26: 'Ecuador', 27: 'Egypt', 28: 'El Salvador', 29: 'Eritrea', \n",
    "                30: 'Estonia', 31: 'Finland', 32: 'France', 33: 'Germany', 34: 'Ghana', 35: 'Greece', 36: 'Guatemala', \n",
    "                37: 'Guinea', 38: 'Guyana', 39: 'Haiti', 40: 'Honduras', 41: 'Hungary', 42: 'India', 43: 'Indonesia', \n",
    "                44: 'Iraq', 45: 'Ireland', 46: 'Italy', 47: 'Jamaica', 48: 'Japan', 49: 'Kazakhstan', 50: 'Kenya', \n",
    "                51: 'Latvia', 52: 'Lebanon', 53: 'Lesotho', 54: 'Libya', 55: 'Lithuania', 56: 'Madagascar', \n",
    "                57: 'Malawi', 58: 'Malaysia', 59: 'Mali', 60: 'Mauritania', 61: 'Mauritius', 62: 'Mexico', \n",
    "                63: 'Montenegro', 64: 'Morocco', 65: 'Mozambique', 66: 'Namibia', 67: 'Nepal', 68: 'Netherlands', \n",
    "                69: 'New Zealand', 70: 'Nicaragua', 71: 'Niger', 72: 'Norway', 73: 'Pakistan', 74: 'Papua New Guinea', \n",
    "                75: 'Peru', 76: 'Poland', 77: 'Portugal', 78: 'Qatar', 79: 'Romania', 80: 'Rwanda', 81: 'Saudi Arabia', \n",
    "                82: 'Senegal', 83: 'Slovenia', 84: 'South Africa', 85: 'Spain', 86: 'Sri Lanka', 87: 'Sudan', \n",
    "                88: 'Suriname', 89: 'Sweden', 90: 'Switzerland', 91: 'Tajikistan', 92: 'Thailand', 93: 'Tunisia', \n",
    "                94: 'Turkey', 95: 'Uganda', 96: 'Ukraine', 97: 'United Kingdom', 98: 'Uruguay', 99: 'Zambia', \n",
    "                100: 'Zimbabwe'}\n",
    "\n",
    "# Decoding the X_test values\n",
    "decoded_X_test = [area_mapping[value] for value in X_test_unique_values]\n",
    "\n",
    "# Print the decoded values\n",
    "print(decoded_X_test)\n"
   ]
  },
  {
   "cell_type": "code",
   "execution_count": null,
   "id": "3e7a5612",
   "metadata": {
    "scrolled": false
   },
   "outputs": [],
   "source": [
    "\n",
    "import numpy as np\n",
    "\n",
    "# Assuming 'lgb_best_model' is your trained LightGBM model, and area_mapping is your dictionary\n",
    "# Define the input features in the correct order as expected by your model\n",
    "def predict_crop(area, year, hg_ha_yield, avg_temp, avg_rainfall_mm, pesticides_tonnes):\n",
    "    # Encode the 'area' input (we assume the input area is given as a string, e.g., \"India\")\n",
    "    area_encoded = list(area_mapping.keys())[list(area_mapping.values()).index(area)]\n",
    "    \n",
    "    # Create the input array based on the input values\n",
    "    input_features = np.array([[area_encoded, year, hg_ha_yield, avg_temp, avg_rainfall_mm, pesticides_tonnes]])\n",
    "    \n",
    "    # Make the prediction\n",
    "    prediction = lgb_best_model.predict(input_features)\n",
    "    if prediction == 1:\n",
    "        print(\"Maize is the best crop to be cultivated right there\")\n",
    "    elif prediction == 2:\n",
    "        print(\"potatoes is the best crop to be cultivated right there\")\n",
    "    elif prediction == 3:\n",
    "        print(\"Rice, paddy is the best crop to be cultivated right there\")\n",
    "    elif prediction == 4:\n",
    "        print(\"Sorghum is the best crop to be cultivated right there\")\n",
    "    elif prediction == 5:\n",
    "        print(\"Soybeans is the best crop to be cultivated right there\")\n",
    "    elif prediction == 6:\n",
    "        print(\"Wheat is the best crop to be cultivated right there\")\n",
    "    elif prediction == 7:\n",
    "        print(\"Cassava is the best crop to be cultivated right there\")\n",
    "    elif prediction == 8:\n",
    "        print(\"Sweet potatoes is the best crop to be cultivated right there\")\n",
    "    elif prediction == 9:\n",
    "        print(\"Plantains and others is the best crop to be cultivated right there\")\n",
    "    elif prediction == 10:\n",
    "        print(\"Yams is the best crop to be cultivated right there\")\n",
    "    \n",
    "    #return prediction\n",
    "\n",
    "# Example of making a prediction\n",
    "predicted_crop = predict_crop(\"India\",2025,7602,27,42482,1083)\n",
    "print(predicted_crop)\n",
    "\n"
   ]
  },
  {
   "cell_type": "code",
   "execution_count": null,
   "id": "09c6c784",
   "metadata": {},
   "outputs": [
    {
     "name": "stdout",
     "output_type": "stream",
     "text": [
      " * Serving Flask app '__main__'\n",
      " * Debug mode: off\n"
     ]
    },
    {
     "name": "stderr",
     "output_type": "stream",
     "text": [
      "WARNING: This is a development server. Do not use it in a production deployment. Use a production WSGI server instead.\n",
      " * Running on http://127.0.0.1:5000\n",
      "Press CTRL+C to quit\n",
      "127.0.0.1 - - [25/Nov/2024 11:40:10] \"GET / HTTP/1.1\" 200 -\n",
      "127.0.0.1 - - [25/Nov/2024 11:40:10] \"GET /static/3.jpg HTTP/1.1\" 304 -\n",
      "127.0.0.1 - - [25/Nov/2024 11:40:10] \"GET /favicon.ico HTTP/1.1\" 404 -\n",
      "127.0.0.1 - - [25/Nov/2024 12:03:59] \"GET / HTTP/1.1\" 200 -\n",
      "127.0.0.1 - - [25/Nov/2024 12:03:59] \"GET /static/3.jpg HTTP/1.1\" 304 -\n",
      "127.0.0.1 - - [25/Nov/2024 13:01:02] \"GET / HTTP/1.1\" 200 -\n",
      "127.0.0.1 - - [25/Nov/2024 13:01:02] \"GET /static/3.jpg HTTP/1.1\" 304 -\n",
      "127.0.0.1 - - [25/Nov/2024 13:01:40] \"POST /result HTTP/1.1\" 200 -\n",
      "127.0.0.1 - - [25/Nov/2024 13:01:40] \"GET /static/3.jpg HTTP/1.1\" 304 -\n",
      "127.0.0.1 - - [25/Nov/2024 13:01:58] \"GET / HTTP/1.1\" 200 -\n",
      "127.0.0.1 - - [25/Nov/2024 13:01:58] \"GET /static/3.jpg HTTP/1.1\" 304 -\n",
      "127.0.0.1 - - [25/Nov/2024 13:03:00] \"POST /result HTTP/1.1\" 200 -\n",
      "127.0.0.1 - - [25/Nov/2024 13:03:00] \"GET /static/3.jpg HTTP/1.1\" 304 -\n",
      "127.0.0.1 - - [25/Nov/2024 13:03:17] \"GET / HTTP/1.1\" 200 -\n",
      "127.0.0.1 - - [25/Nov/2024 13:03:17] \"GET /static/3.jpg HTTP/1.1\" 304 -\n"
     ]
    }
   ],
   "source": [
    "from flask import Flask, render_template_string, request\n",
    "import numpy as np\n",
    "\n",
    "# Dummy area_mapping for example purposes (replace with your actual area_mapping)\n",
    "area_mapping = {0: 'Albania', 1: 'Algeria', 2: 'Angola', 3: 'Argentina', 4: 'Armenia', 5: 'Australia', \n",
    "                6: 'Austria', 7: 'Azerbaijan', 8: 'Bahamas', 9: 'Bahrain', 10: 'Bangladesh', \n",
    "                # (truncated for brevity, add all areas)\n",
    "                98: 'Uruguay', 99: 'Zambia', 100: 'Zimbabwe'}\n",
    "\n",
    "# Mockup of your trained LightGBM model (replace with your actual model)\n",
    "class MockModel:\n",
    "    def predict(self, features):\n",
    "        # Mock prediction logic for testing\n",
    "        avg_temp = features[0][3]\n",
    "        if avg_temp < 15:\n",
    "            return [3]  # Rice\n",
    "        elif 15 <= avg_temp < 25:\n",
    "            return [1]  # Maize\n",
    "        elif 25 <= avg_temp < 35:\n",
    "            return [5]  # Soybeans\n",
    "        else:\n",
    "            return [7]  # Cassava\n",
    "\n",
    "lgb_best_model = MockModel()\n",
    "\n",
    "# Prediction function\n",
    "def predict_crop(area, year, hg_ha_yield, avg_temp, avg_rainfall_mm, pesticides_tonnes):\n",
    "    # Encode the 'area' input\n",
    "    area_encoded = area_mapping.get(area, 0)  # Default to 0 if area is not found\n",
    "    \n",
    "    # Create the input array based on the input values\n",
    "    input_features = np.array([[area_encoded, year, hg_ha_yield, avg_temp, avg_rainfall_mm, pesticides_tonnes]])\n",
    "    \n",
    "    # Make the prediction\n",
    "    prediction = lgb_best_model.predict(input_features)[0]\n",
    "\n",
    "    # Map prediction to crop names\n",
    "    crop_dict = {\n",
    "        1: \"Maize\",\n",
    "        2: \"Potatoes\",\n",
    "        3: \"Rice, paddy\",\n",
    "        4: \"Sorghum\",\n",
    "        5: \"Soybeans\",\n",
    "        6: \"Wheat\",\n",
    "        7: \"Cassava\",\n",
    "        8: \"Sweet potatoes\",\n",
    "        9: \"Plantains and others\",\n",
    "        10: \"Yams\"\n",
    "    }\n",
    "\n",
    "    return f\"{crop_dict.get(prediction, 'Unknown crop prediction')} is the best crop to be cultivated right there\"\n",
    "\n",
    "# Initialize the Flask app\n",
    "app = Flask(__name__)\n",
    "\n",
    "# HTML template for the input form page\n",
    "html_template = \"\"\"\n",
    "<!DOCTYPE html>\n",
    "<html lang=\"en\">\n",
    "<head>\n",
    "    <meta charset=\"UTF-8\">\n",
    "    <meta name=\"viewport\" content=\"width=device-width, initial-scale=1.0\">\n",
    "    <title>Crop Prediction</title>\n",
    "    <style>\n",
    "        body {\n",
    "            font-family: Arial, sans-serif;\n",
    "            background-image: url('/static/3.jpg');\n",
    "            background-size: cover;\n",
    "            background-position: center;\n",
    "            display: flex;\n",
    "            justify-content: center;\n",
    "            align-items: center;\n",
    "            height: 100vh;\n",
    "            margin: 0;\n",
    "        }\n",
    "        .container {\n",
    "            background-color: rgba(255, 255, 255, 0.9);\n",
    "            padding: 20px;\n",
    "            border-radius: 10px;\n",
    "            box-shadow: 0 0 10px rgba(0, 0, 0, 0.1);\n",
    "            max-width: 400px;\n",
    "            width: 100%;\n",
    "        }\n",
    "        h2 {\n",
    "            text-align: center;\n",
    "            color: #333;\n",
    "        }\n",
    "        input[type=\"text\"], input[type=\"number\"] {\n",
    "            width: 100%;\n",
    "            padding: 10px;\n",
    "            margin: 10px 0;\n",
    "            border-radius: 5px;\n",
    "            border: 1px solid #ccc;\n",
    "        }\n",
    "        button {\n",
    "            width: 100%;\n",
    "            padding: 10px;\n",
    "            background-color: #28a745;\n",
    "            color: white;\n",
    "            border: none;\n",
    "            border-radius: 5px;\n",
    "            font-size: 16px;\n",
    "            cursor: pointer;\n",
    "        }\n",
    "        button:hover {\n",
    "            background-color: #218838;\n",
    "        }\n",
    "    </style>\n",
    "</head>\n",
    "<body>\n",
    "    <div class=\"container\">\n",
    "        <h2>Crop Prediction</h2>\n",
    "        <form method=\"POST\" action=\"/result\">\n",
    "            <label for=\"area\">Area:</label>\n",
    "            <input type=\"text\" id=\"area\" name=\"area\" placeholder=\"Enter area (e.g., Albania)\" required>\n",
    "            \n",
    "            <label for=\"year\">Year:</label>\n",
    "            <input type=\"number\" id=\"year\" name=\"year\" placeholder=\"Enter year (e.g., 2021)\" required>\n",
    "            \n",
    "            <label for=\"hg_ha_yield\">hg/ha Yield:</label>\n",
    "            <input type=\"number\" id=\"hg_ha_yield\" name=\"hg_ha_yield\" placeholder=\"Enter hg/ha Yield\" required>\n",
    "            \n",
    "            <label for=\"avg_temp\">Average Temperature (°C):</label>\n",
    "            <input type=\"number\" id=\"avg_temp\" name=\"avg_temp\" placeholder=\"Enter avg temperature\" required>\n",
    "            \n",
    "            <label for=\"avg_rainfall_mm\">Average Rainfall (mm):</label>\n",
    "            <input type=\"number\" id=\"avg_rainfall_mm\" name=\"avg_rainfall_mm\" placeholder=\"Enter avg rainfall in mm\" required>\n",
    "            \n",
    "            <label for=\"pesticides_tonnes\">Pesticides (Tonnes):</label>\n",
    "            <input type=\"number\" id=\"pesticides_tonnes\" name=\"pesticides_tonnes\" placeholder=\"Enter pesticides in tonnes\" required>\n",
    "            \n",
    "            <button type=\"submit\">Predict</button>\n",
    "        </form>\n",
    "    </div>\n",
    "</body>\n",
    "</html>\n",
    "\"\"\"\n",
    "\n",
    "\n",
    "# HTML template for the result page\n",
    "result_template = \"\"\"\n",
    "<!DOCTYPE html>\n",
    "<html lang=\"en\">\n",
    "<head>\n",
    "    <meta charset=\"UTF-8\">\n",
    "    <meta name=\"viewport\" content=\"width=device-width, initial-scale=1.0\">\n",
    "    <title>Crop Prediction Result</title>\n",
    "    <style>\n",
    "        body {\n",
    "            font-family: Arial, sans-serif;\n",
    "            background-image: url('/static/3.jpg');\n",
    "            background-size: cover;\n",
    "            background-position: center;\n",
    "            display: flex;\n",
    "            justify-content: center;\n",
    "            align-items: center;\n",
    "            height: 100vh;\n",
    "            margin: 0;\n",
    "        }\n",
    "        .container {\n",
    "            background-color: rgba(255, 255, 255, 0.9);\n",
    "            padding: 20px;\n",
    "            border-radius: 10px;\n",
    "            box-shadow: 0 0 10px rgba(0, 0, 0, 0.1);\n",
    "            max-width: 400px;\n",
    "            width: 100%;\n",
    "            text-align: center;\n",
    "        }\n",
    "        h2 {\n",
    "            color: #333;\n",
    "        }\n",
    "        .result {\n",
    "            font-size: 20px;\n",
    "            margin-top: 20px;\n",
    "            color: #28a745;\n",
    "        }\n",
    "        button {\n",
    "            margin-top: 20px;\n",
    "            padding: 10px 20px;\n",
    "            background-color: #28a745;\n",
    "            color: white;\n",
    "            border: none;\n",
    "            border-radius: 5px;\n",
    "            font-size: 16px;\n",
    "            cursor: pointer;\n",
    "        }\n",
    "        button:hover {\n",
    "            background-color: #218838;\n",
    "        }\n",
    "    </style>\n",
    "</head>\n",
    "<body>\n",
    "    <div class=\"container\">\n",
    "        <h2>Crop Prediction Result</h2>\n",
    "        <div class=\"result\">{{ prediction_text }}</div>\n",
    "        <a href=\"/\"><button>Go Back</button></a>\n",
    "    </div>\n",
    "</body>\n",
    "</html>\n",
    "\"\"\"\n",
    "\n",
    "\n",
    "# Route to display form\n",
    "@app.route('/', methods=['GET'])\n",
    "def index():\n",
    "    return render_template_string(html_template)\n",
    "\n",
    "# Route to process input and display result\n",
    "@app.route('/result', methods=['POST'])\n",
    "def result():\n",
    "    # Get form inputs\n",
    "    area = request.form['area']\n",
    "    year = int(request.form['year'])\n",
    "    hg_ha_yield = float(request.form['hg_ha_yield'])\n",
    "    avg_temp = float(request.form['avg_temp'])\n",
    "    avg_rainfall_mm = float(request.form['avg_rainfall_mm'])\n",
    "    pesticides_tonnes = float(request.form['pesticides_tonnes'])\n",
    "    \n",
    "    # Get prediction using your provided function\n",
    "    predicted_crop = predict_crop(area, year, hg_ha_yield, avg_temp, avg_rainfall_mm, pesticides_tonnes)\n",
    "    \n",
    "    # Display the result\n",
    "    return render_template_string(result_template, prediction_text=predicted_crop)\n",
    "\n",
    "# Run the app (make sure to stop the app by interrupting the kernel when done)\n",
    "if __name__ == '__main__':\n",
    "    app.run(port=5000)\n"
   ]
  },
  {
   "cell_type": "code",
   "execution_count": null,
   "id": "02b4f447",
   "metadata": {},
   "outputs": [],
   "source": [
    "#Area = 1 Albania,Maize,1991,29068,1485,121,15.36\n",
    "#Year = 1990\n",
    "#hg_ha_yield = 36613\n",
    "#avg_temp = 16.37\n",
    "#average_rain_fall_mm_per_year = 36613\n",
    "#pesticides_tonnes = 121"
   ]
  },
  {
   "cell_type": "code",
   "execution_count": null,
   "id": "4bd8e077",
   "metadata": {},
   "outputs": [],
   "source": []
  },
  {
   "cell_type": "code",
   "execution_count": null,
   "id": "ffd1044c",
   "metadata": {},
   "outputs": [],
   "source": []
  }
 ],
 "metadata": {
  "kernelspec": {
   "display_name": "Python 3 (ipykernel)",
   "language": "python",
   "name": "python3"
  },
  "language_info": {
   "codemirror_mode": {
    "name": "ipython",
    "version": 3
   },
   "file_extension": ".py",
   "mimetype": "text/x-python",
   "name": "python",
   "nbconvert_exporter": "python",
   "pygments_lexer": "ipython3",
   "version": "3.10.9"
  }
 },
 "nbformat": 4,
 "nbformat_minor": 5
}
